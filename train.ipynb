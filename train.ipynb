{
 "cells": [
  {
   "cell_type": "code",
   "execution_count": null,
   "metadata": {
    "scrolled": true
   },
   "outputs": [],
   "source": [
    "include(\"slim_reader.jl\")\n",
    "include(\"Network.jl\")\n",
    "include(\"Encoder.jl\")\n",
    "\n",
    "using Knet, ImageMagick, Colors, Images, Sloth, DRAW, Random\n",
    "BATCH_SIZE = 50\n",
    "EPOCH = 5\n",
    "NUMBATCHES = 200000\n",
    "slim_data_dir = \"/home/ec2-user/efs/slim-dataset\"\n",
    "syn_train_files = Slim_Reader.get_train_filenames(slim_data_dir, true, false)\n",
    "# Construct training dataset object for synthetic data\n",
    "syn_train_data = Slim_Reader.make_dataset_object(syn_train_files, BATCH_SIZE)\n",
    "syn_train_batch = Slim_Reader.get_next_batch(syn_train_data, KnetArray{Float32}, false, true);\n",
    "images, captions, cameras = getdata(syn_train_batch)"
   ]
  },
  {
   "cell_type": "code",
   "execution_count": null,
   "metadata": {},
   "outputs": [],
   "source": [
    "goldimages = creategoldimg(images)"
   ]
  },
  {
   "cell_type": "code",
   "execution_count": null,
   "metadata": {},
   "outputs": [],
   "source": [
    "n = Network()"
   ]
  },
  {
   "cell_type": "code",
   "execution_count": null,
   "metadata": {},
   "outputs": [],
   "source": [
    "function loss(n::Network, images, captions, cameras, final_output_gold)\n",
    "    output = n(images, captions, cameras)\n",
    "    recon = bce(output.rimages, final_output_gold) #*32 *32 # neden 32*32 ile carptik\n",
    "    mu_2 = DRAW.square(output.mu)\n",
    "    kl = 0.5 * sum(output.sigma + mu_2 .- 1 - output.logsigma)\n",
    "    return recon + kl\n",
    "end"
   ]
  },
  {
   "cell_type": "code",
   "execution_count": null,
   "metadata": {},
   "outputs": [],
   "source": [
    "function update_weights!(n::Network, images, captions, cameras, y)\n",
    "    J = @diff loss(n, images, captions, cameras, y)\n",
    "    for par in params(n)\n",
    "        g = grad(J, par)\n",
    "        update!(value(par), g; lr=0.1)\n",
    "    end\n",
    "    return value(J)\n",
    "end"
   ]
  },
  {
   "cell_type": "code",
   "execution_count": null,
   "metadata": {},
   "outputs": [],
   "source": [
    "function epoch!(n::Network, syn_train_data) # last loss = loss before last update\n",
    "    loss_values = []\n",
    "    for i in 1:EPOCH\n",
    "        loss = 0\n",
    "        for j in 1:NUMBATCHES\n",
    "            syn_train_batch = Slim_Reader.get_next_batch(syn_train_data, KnetArray{Float32}, false, true)\n",
    "            images, captions, cameras = getdata(syn_train_batch)\n",
    "            y = creategoldimg(images)\n",
    "            loss = loss + update_weights!(n, images, captions, cameras, y)\n",
    "        end\n",
    "        push!(loss_values, loss/NUMBATCHES)\n",
    "        Knet.save(string(\"trained_model\", i, \".jld2\"), \"results\", n)\n",
    "    end\n",
    "    return loss_values\n",
    "end"
   ]
  },
  {
   "cell_type": "code",
   "execution_count": null,
   "metadata": {},
   "outputs": [],
   "source": [
    "loss_values = epoch!(n, syn_train_data)"
   ]
  },
  {
   "cell_type": "code",
   "execution_count": null,
   "metadata": {},
   "outputs": [],
   "source": []
  }
 ],
 "metadata": {
  "@webio": {
   "lastCommId": null,
   "lastKernelId": null
  },
  "kernelspec": {
   "display_name": "Julia 1.2.0",
   "language": "julia",
   "name": "julia-1.2"
  },
  "language_info": {
   "file_extension": ".jl",
   "mimetype": "application/julia",
   "name": "julia",
   "version": "1.2.0"
  }
 },
 "nbformat": 4,
 "nbformat_minor": 2
}
