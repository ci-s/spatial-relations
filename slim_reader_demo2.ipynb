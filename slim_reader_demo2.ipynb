{
 "cells": [
  {
   "cell_type": "code",
   "execution_count": 15,
   "metadata": {},
   "outputs": [
    {
     "name": "stderr",
     "output_type": "stream",
     "text": [
      "WARNING: replacing module Slim_Reader.\n",
      "┌ Warning: `getindex(o::PyObject, s::AbstractString)` is deprecated in favor of dot overloading (`getproperty`) so elements should now be accessed as e.g. `o.\"s\"` instead of `o[\"s\"]`.\n",
      "│   caller = top-level scope at slim_reader.jl:6\n",
      "└ @ Core /home/ec2-user/comp492/Text2Image-cemil-slim-dataset-reader/slim_reader.jl:6\n"
     ]
    }
   ],
   "source": [
    "include(\"slim_reader.jl\")\n",
    "using Knet"
   ]
  },
  {
   "cell_type": "code",
   "execution_count": 61,
   "metadata": {},
   "outputs": [
    {
     "data": {
      "text/plain": [
       "64"
      ]
     },
     "execution_count": 61,
     "metadata": {},
     "output_type": "execute_result"
    }
   ],
   "source": [
    "BATCH_SIZE = 50\n",
    "slim_data_dir = \"/home/ec2-user/efs/slim-dataset\""
   ]
  },
  {
   "cell_type": "code",
   "execution_count": 17,
   "metadata": {},
   "outputs": [
    {
     "data": {
      "text/plain": [
       "Dict{String,Any} with 4 entries:\n",
       "  \"sess\"         => PyObject <tensorflow.python.client.session.Session object a…\n",
       "  \"filenames\"    => PyObject <tf.Tensor 'Placeholder_2:0' shape=(?,) dtype=stri…\n",
       "  \"iterator\"     => PyObject <tensorflow.python.data.ops.iterator_ops.Iterator …\n",
       "  \"next_element\" => (((PyObject <tf.Tensor 'IteratorGetNext_2:0' shape=(?, 9, ?…"
      ]
     },
     "execution_count": 17,
     "metadata": {},
     "output_type": "execute_result"
    }
   ],
   "source": [
    "syn_train_files = Slim_Reader.get_train_filenames(slim_data_dir, true, false)\n",
    "# Construct training dataset object for synthetic data\n",
    "syn_train_data = Slim_Reader.make_dataset_object(syn_train_files, BATCH_SIZE)"
   ]
  },
  {
   "cell_type": "code",
   "execution_count": 18,
   "metadata": {},
   "outputs": [],
   "source": [
    "# Iterate through the dataset and get the next batch\n",
    "syn_train_batch = Slim_Reader.get_next_batch(syn_train_data, KnetArray{Float32}, false, true);"
   ]
  },
  {
   "cell_type": "code",
   "execution_count": 205,
   "metadata": {},
   "outputs": [
    {
     "data": {
      "text/plain": [
       "(K32(50,10,128,128,3)[0.6039216⋯], [\"There is a purple capsule in front of a pink ico. The capsule is close to the ico.  \" \"There is a pink ico close to a purple capsule. The ico is to the right of the capsule.  \" … \"There is a purple capsule close to a pink ico. The capsule is in front of the ico.  \" \"There is a pink ico to the right of a purple capsule. The ico is close to the capsule.  \"; \"There is a red ico in front of a violet ico. There is a red ico in front of a large peach box. The ico is to the right of the box. There is a large peach box to the left of a violet ico.  \" \"There is a red ico in front of a violet ico. There is a red ico to the right of a large peach box. The ico is in front of the box. There is a violet ico to the right of a large peach box.  \" … \"There is a red ico to the left of a violet ico. There is a red ico to the left of a large peach box. The ico is in front of the box. There is a violet ico in front of a large peach box.  \" \"There is a red ico in front of a violet ico. There is a large peach box behind a red ico. The box is behind the ico. There is a large peach box to the left of a violet ico.  \"; … ; \"There is a pink ico to the left of a yellow torus.  \" \"There is a pink ico to the right of a yellow torus.  \" … \"There is a yellow torus to the left of a pink ico.  \" \"There is a yellow torus behind a pink ico. The torus is behind the ico.  \"; \"There is a large green capsule in front of a purple sphere. The capsule is to the right of the sphere.  \" \"There is a large green capsule to the left of a purple sphere. The capsule is in front of the sphere.  \" … \"There is a large green capsule in front of a purple sphere. The capsule is to the left of the sphere.  \" \"There is a large green capsule.  \"], K32(50,10,3)[-0.41914985⋯])"
      ]
     },
     "execution_count": 205,
     "metadata": {},
     "output_type": "execute_result"
    }
   ],
   "source": [
    "aimages, acaptions, acameras = getdata(syn_train_batch)"
   ]
  },
  {
   "cell_type": "code",
   "execution_count": 224,
   "metadata": {},
   "outputs": [
    {
     "data": {
      "text/plain": [
       "Dict{String,KnetArray{Float64,1}} with 1 entry:\n",
       "  \"\" => K64(64)[0.0⋯]"
      ]
     },
     "execution_count": 224,
     "metadata": {},
     "output_type": "execute_result"
    }
   ],
   "source": [
    "# create a dictionary of known words\n",
    "vocab = Dict()\n",
    "vocab = Dict(\"\" => KnetArray(zeros(EMBEDDING_SIZE))) # both padding and whitespace"
   ]
  },
  {
   "cell_type": "code",
   "execution_count": 225,
   "metadata": {
    "scrolled": true
   },
   "outputs": [
    {
     "data": {
      "text/plain": [
       "50-element Array{Any,1}:\n",
       " Any[K64(64,60)[0.03361509787334013⋯], K64(64,60)[0.03361509787334013⋯], K64(64,60)[0.03361509787334013⋯], K64(64,60)[0.03361509787334013⋯], K64(64,60)[0.03361509787334013⋯], K64(64,60)[0.03361509787334013⋯], K64(64,60)[0.03361509787334013⋯], K64(64,60)[0.03361509787334013⋯], K64(64,60)[0.03361509787334013⋯], K64(64,60)[0.03361509787334013⋯]]\n",
       " Any[K64(64,60)[0.03361509787334013⋯], K64(64,60)[0.03361509787334013⋯], K64(64,60)[0.03361509787334013⋯], K64(64,60)[0.03361509787334013⋯], K64(64,60)[0.03361509787334013⋯], K64(64,60)[0.03361509787334013⋯], K64(64,60)[0.03361509787334013⋯], K64(64,60)[0.03361509787334013⋯], K64(64,60)[0.03361509787334013⋯], K64(64,60)[0.03361509787334013⋯]]\n",
       " Any[K64(64,60)[0.03361509787334013⋯], K64(64,60)[0.03361509787334013⋯], K64(64,60)[0.03361509787334013⋯], K64(64,60)[0.03361509787334013⋯], K64(64,60)[0.03361509787334013⋯], K64(64,60)[0.03361509787334013⋯], K64(64,60)[0.03361509787334013⋯], K64(64,60)[0.03361509787334013⋯], K64(64,60)[0.03361509787334013⋯], K64(64,60)[0.03361509787334013⋯]]\n",
       " Any[K64(64,60)[0.03361509787334013⋯], K64(64,60)[0.03361509787334013⋯], K64(64,60)[0.03361509787334013⋯], K64(64,60)[0.03361509787334013⋯], K64(64,60)[0.03361509787334013⋯], K64(64,60)[0.03361509787334013⋯], K64(64,60)[0.03361509787334013⋯], K64(64,60)[0.03361509787334013⋯], K64(64,60)[0.03361509787334013⋯], K64(64,60)[0.03361509787334013⋯]]\n",
       " Any[K64(64,60)[0.03361509787334013⋯], K64(64,60)[0.03361509787334013⋯], K64(64,60)[0.03361509787334013⋯], K64(64,60)[0.03361509787334013⋯], K64(64,60)[0.03361509787334013⋯], K64(64,60)[0.03361509787334013⋯], K64(64,60)[0.03361509787334013⋯], K64(64,60)[0.03361509787334013⋯], K64(64,60)[0.03361509787334013⋯], K64(64,60)[0.03361509787334013⋯]]\n",
       " Any[K64(64,60)[0.03361509787334013⋯], K64(64,60)[0.03361509787334013⋯], K64(64,60)[0.03361509787334013⋯], K64(64,60)[0.03361509787334013⋯], K64(64,60)[0.03361509787334013⋯], K64(64,60)[0.03361509787334013⋯], K64(64,60)[0.03361509787334013⋯], K64(64,60)[0.03361509787334013⋯], K64(64,60)[0.03361509787334013⋯], K64(64,60)[0.03361509787334013⋯]]\n",
       " Any[K64(64,60)[0.03361509787334013⋯], K64(64,60)[0.03361509787334013⋯], K64(64,60)[0.03361509787334013⋯], K64(64,60)[0.03361509787334013⋯], K64(64,60)[0.03361509787334013⋯], K64(64,60)[0.03361509787334013⋯], K64(64,60)[0.03361509787334013⋯], K64(64,60)[0.03361509787334013⋯], K64(64,60)[0.03361509787334013⋯], K64(64,60)[0.03361509787334013⋯]]\n",
       " Any[K64(64,60)[0.03361509787334013⋯], K64(64,60)[0.03361509787334013⋯], K64(64,60)[0.03361509787334013⋯], K64(64,60)[0.03361509787334013⋯], K64(64,60)[0.03361509787334013⋯], K64(64,60)[0.03361509787334013⋯], K64(64,60)[0.03361509787334013⋯], K64(64,60)[0.03361509787334013⋯], K64(64,60)[0.03361509787334013⋯], K64(64,60)[0.03361509787334013⋯]]\n",
       " Any[K64(64,60)[0.03361509787334013⋯], K64(64,60)[0.03361509787334013⋯], K64(64,60)[0.03361509787334013⋯], K64(64,60)[0.03361509787334013⋯], K64(64,60)[0.03361509787334013⋯], K64(64,60)[0.03361509787334013⋯], K64(64,60)[0.03361509787334013⋯], K64(64,60)[0.03361509787334013⋯], K64(64,60)[0.03361509787334013⋯], K64(64,60)[0.03361509787334013⋯]]\n",
       " Any[K64(64,60)[0.03361509787334013⋯], K64(64,60)[0.03361509787334013⋯], K64(64,60)[0.03361509787334013⋯], K64(64,60)[0.03361509787334013⋯], K64(64,60)[0.03361509787334013⋯], K64(64,60)[0.03361509787334013⋯], K64(64,60)[0.03361509787334013⋯], K64(64,60)[0.03361509787334013⋯], K64(64,60)[0.03361509787334013⋯], K64(64,60)[0.03361509787334013⋯]]\n",
       " Any[K64(64,60)[0.03361509787334013⋯], K64(64,60)[0.03361509787334013⋯], K64(64,60)[0.03361509787334013⋯], K64(64,60)[0.03361509787334013⋯], K64(64,60)[0.03361509787334013⋯], K64(64,60)[0.03361509787334013⋯], K64(64,60)[0.03361509787334013⋯], K64(64,60)[0.03361509787334013⋯], K64(64,60)[0.03361509787334013⋯], K64(64,60)[0.03361509787334013⋯]]\n",
       " Any[K64(64,60)[0.03361509787334013⋯], K64(64,60)[0.03361509787334013⋯], K64(64,60)[0.03361509787334013⋯], K64(64,60)[0.03361509787334013⋯], K64(64,60)[0.03361509787334013⋯], K64(64,60)[0.03361509787334013⋯], K64(64,60)[0.03361509787334013⋯], K64(64,60)[0.03361509787334013⋯], K64(64,60)[0.03361509787334013⋯], K64(64,60)[0.03361509787334013⋯]]\n",
       " Any[K64(64,60)[0.03361509787334013⋯], K64(64,60)[0.03361509787334013⋯], K64(64,60)[0.03361509787334013⋯], K64(64,60)[0.03361509787334013⋯], K64(64,60)[0.03361509787334013⋯], K64(64,60)[0.03361509787334013⋯], K64(64,60)[0.03361509787334013⋯], K64(64,60)[0.03361509787334013⋯], K64(64,60)[0.03361509787334013⋯], K64(64,60)[0.03361509787334013⋯]]\n",
       " ⋮                                                                                                                                                                                                                                                                                                                                                      \n",
       " Any[K64(64,60)[0.03361509787334013⋯], K64(64,60)[0.03361509787334013⋯], K64(64,60)[0.03361509787334013⋯], K64(64,60)[0.03361509787334013⋯], K64(64,60)[0.03361509787334013⋯], K64(64,60)[0.03361509787334013⋯], K64(64,60)[0.03361509787334013⋯], K64(64,60)[0.03361509787334013⋯], K64(64,60)[0.03361509787334013⋯], K64(64,60)[0.03361509787334013⋯]]\n",
       " Any[K64(64,60)[0.03361509787334013⋯], K64(64,60)[0.03361509787334013⋯], K64(64,60)[0.03361509787334013⋯], K64(64,60)[0.03361509787334013⋯], K64(64,60)[0.03361509787334013⋯], K64(64,60)[0.03361509787334013⋯], K64(64,60)[0.03361509787334013⋯], K64(64,60)[0.03361509787334013⋯], K64(64,60)[0.03361509787334013⋯], K64(64,60)[0.03361509787334013⋯]]\n",
       " Any[K64(64,60)[0.03361509787334013⋯], K64(64,60)[0.03361509787334013⋯], K64(64,60)[0.03361509787334013⋯], K64(64,60)[0.03361509787334013⋯], K64(64,60)[0.03361509787334013⋯], K64(64,60)[0.03361509787334013⋯], K64(64,60)[0.03361509787334013⋯], K64(64,60)[0.03361509787334013⋯], K64(64,60)[0.03361509787334013⋯], K64(64,60)[0.03361509787334013⋯]]\n",
       " Any[K64(64,60)[0.03361509787334013⋯], K64(64,60)[0.03361509787334013⋯], K64(64,60)[0.03361509787334013⋯], K64(64,60)[0.03361509787334013⋯], K64(64,60)[0.03361509787334013⋯], K64(64,60)[0.03361509787334013⋯], K64(64,60)[0.03361509787334013⋯], K64(64,60)[0.03361509787334013⋯], K64(64,60)[0.03361509787334013⋯], K64(64,60)[0.03361509787334013⋯]]\n",
       " Any[K64(64,60)[0.03361509787334013⋯], K64(64,60)[0.03361509787334013⋯], K64(64,60)[0.03361509787334013⋯], K64(64,60)[0.03361509787334013⋯], K64(64,60)[0.03361509787334013⋯], K64(64,60)[0.03361509787334013⋯], K64(64,60)[0.03361509787334013⋯], K64(64,60)[0.03361509787334013⋯], K64(64,60)[0.03361509787334013⋯], K64(64,60)[0.03361509787334013⋯]]\n",
       " Any[K64(64,60)[0.03361509787334013⋯], K64(64,60)[0.03361509787334013⋯], K64(64,60)[0.03361509787334013⋯], K64(64,60)[0.03361509787334013⋯], K64(64,60)[0.03361509787334013⋯], K64(64,60)[0.03361509787334013⋯], K64(64,60)[0.03361509787334013⋯], K64(64,60)[0.03361509787334013⋯], K64(64,60)[0.03361509787334013⋯], K64(64,60)[0.03361509787334013⋯]]\n",
       " Any[K64(64,60)[0.03361509787334013⋯], K64(64,60)[0.03361509787334013⋯], K64(64,60)[0.03361509787334013⋯], K64(64,60)[0.03361509787334013⋯], K64(64,60)[0.03361509787334013⋯], K64(64,60)[0.03361509787334013⋯], K64(64,60)[0.03361509787334013⋯], K64(64,60)[0.03361509787334013⋯], K64(64,60)[0.03361509787334013⋯], K64(64,60)[0.03361509787334013⋯]]\n",
       " Any[K64(64,60)[0.03361509787334013⋯], K64(64,60)[0.03361509787334013⋯], K64(64,60)[0.03361509787334013⋯], K64(64,60)[0.03361509787334013⋯], K64(64,60)[0.03361509787334013⋯], K64(64,60)[0.03361509787334013⋯], K64(64,60)[0.03361509787334013⋯], K64(64,60)[0.03361509787334013⋯], K64(64,60)[0.03361509787334013⋯], K64(64,60)[0.03361509787334013⋯]]\n",
       " Any[K64(64,60)[0.03361509787334013⋯], K64(64,60)[0.03361509787334013⋯], K64(64,60)[0.03361509787334013⋯], K64(64,60)[0.03361509787334013⋯], K64(64,60)[0.03361509787334013⋯], K64(64,60)[0.03361509787334013⋯], K64(64,60)[0.03361509787334013⋯], K64(64,60)[0.03361509787334013⋯], K64(64,60)[0.03361509787334013⋯], K64(64,60)[0.03361509787334013⋯]]\n",
       " Any[K64(64,60)[0.03361509787334013⋯], K64(64,60)[0.03361509787334013⋯], K64(64,60)[0.03361509787334013⋯], K64(64,60)[0.03361509787334013⋯], K64(64,60)[0.03361509787334013⋯], K64(64,60)[0.03361509787334013⋯], K64(64,60)[0.03361509787334013⋯], K64(64,60)[0.03361509787334013⋯], K64(64,60)[0.03361509787334013⋯], K64(64,60)[0.03361509787334013⋯]]\n",
       " Any[K64(64,60)[0.03361509787334013⋯], K64(64,60)[0.03361509787334013⋯], K64(64,60)[0.03361509787334013⋯], K64(64,60)[0.03361509787334013⋯], K64(64,60)[0.03361509787334013⋯], K64(64,60)[0.03361509787334013⋯], K64(64,60)[0.03361509787334013⋯], K64(64,60)[0.03361509787334013⋯], K64(64,60)[0.03361509787334013⋯], K64(64,60)[0.03361509787334013⋯]]\n",
       " Any[K64(64,60)[0.03361509787334013⋯], K64(64,60)[0.03361509787334013⋯], K64(64,60)[0.03361509787334013⋯], K64(64,60)[0.03361509787334013⋯], K64(64,60)[0.03361509787334013⋯], K64(64,60)[0.03361509787334013⋯], K64(64,60)[0.03361509787334013⋯], K64(64,60)[0.03361509787334013⋯], K64(64,60)[0.03361509787334013⋯], K64(64,60)[0.03361509787334013⋯]]"
      ]
     },
     "execution_count": 225,
     "metadata": {},
     "output_type": "execute_result"
    }
   ],
   "source": [
    "caption_embeds = arrange(acaptions,vocab)"
   ]
  },
  {
   "cell_type": "code",
   "execution_count": 226,
   "metadata": {},
   "outputs": [
    {
     "data": {
      "text/plain": [
       "Dict{String,KnetArray{Float64,1}} with 47 entries:\n",
       "  \"pink\"      => K64(64)[-0.05320388718541161⋯]\n",
       "  \"cone\"      => K64(64)[-0.010810351692621983⋯]\n",
       "  \"right\"     => K64(64)[0.028482869615203465⋯]\n",
       "  \"capsule\"   => K64(64)[0.039905934207305094⋯]\n",
       "  \"teal\"      => K64(64)[0.06035515198046429⋯]\n",
       "  \"of\"        => K64(64)[0.16980724761717605⋯]\n",
       "  \"purple\"    => K64(64)[0.1549221604706835⋯]\n",
       "  \"cylinder\"  => K64(64)[-0.17402959506774507⋯]\n",
       "  \"right.\"    => K64(64)[-0.0033173125895600286⋯]\n",
       "  \"to\"        => K64(64)[-0.027362710963867082⋯]\n",
       "  \"box.\"      => K64(64)[-0.0035722392186845753⋯]\n",
       "  \"ico\"       => K64(64)[-0.04894584681424219⋯]\n",
       "  \"is\"        => K64(64)[-0.05887074007516242⋯]\n",
       "  \"close\"     => K64(64)[-0.006768370161991888⋯]\n",
       "  \"cylinder.\" => K64(64)[-0.006094151433673034⋯]\n",
       "  \"sphere.\"   => K64(64)[0.0946939455871608⋯]\n",
       "  \"sphere\"    => K64(64)[0.08425054758431308⋯]\n",
       "  \"cone.\"     => K64(64)[0.15491235124517147⋯]\n",
       "  \"in\"        => K64(64)[0.1387726196094268⋯]\n",
       "  \"There\"     => K64(64)[0.03361509787334013⋯]\n",
       "  \"lime\"      => K64(64)[-0.10231169218636861⋯]\n",
       "  \"torus\"     => K64(64)[-0.021895516877028037⋯]\n",
       "  \"away.\"     => K64(64)[0.052018803374473066⋯]\n",
       "  \"red\"       => K64(64)[0.15820685758284084⋯]\n",
       "  \"left\"      => K64(64)[-0.05516411332505235⋯]\n",
       "  ⋮           => ⋮"
      ]
     },
     "execution_count": 226,
     "metadata": {},
     "output_type": "execute_result"
    }
   ],
   "source": [
    "vocab"
   ]
  },
  {
   "cell_type": "code",
   "execution_count": 223,
   "metadata": {
    "scrolled": false
   },
   "outputs": [
    {
     "data": {
      "text/latex": [
       "\\begin{verbatim}\n",
       "conv4(w, x; kwargs...)\n",
       "\\end{verbatim}\n",
       "Execute convolutions or cross-correlations using filters specified with \\texttt{w} over tensor \\texttt{x}.\n",
       "\n",
       "Currently KnetArray\\{Float32/64,4/5\\} and Array\\{Float32/64,4\\} are supported as \\texttt{w} and \\texttt{x}.  If \\texttt{w} has dimensions \\texttt{(W1,W2,...,I,O)} and \\texttt{x} has dimensions \\texttt{(X1,X2,...,I,N)}, the result \\texttt{y} will have dimensions \\texttt{(Y1,Y2,...,O,N)} where\n",
       "\n",
       "\\begin{verbatim}\n",
       "Yi=1+floor((Xi+2*padding[i]-Wi)/stride[i])\n",
       "\\end{verbatim}\n",
       "Here \\texttt{I} is the number of input channels, \\texttt{O} is the number of output channels, \\texttt{N} is the number of instances, and \\texttt{Wi,Xi,Yi} are spatial dimensions.  \\texttt{padding} and \\texttt{stride} are keyword arguments that can be specified as a single number (in which case they apply to all dimensions), or an array/tuple with entries for each spatial dimension.\n",
       "\n",
       "\\section{Keywords}\n",
       "\\begin{itemize}\n",
       "\\item \\texttt{padding=0}: the number of extra zeros implicitly concatenated at the start and at the end of each dimension.\n",
       "\n",
       "\n",
       "\\item \\texttt{stride=1}: the number of elements to slide to reach the next filtering window.\n",
       "\n",
       "\n",
       "\\item \\texttt{dilation=1}: dilation factor for each dimension.\n",
       "\n",
       "\n",
       "\\item \\texttt{mode=0}: 0 for convolution and 1 for cross-correlation.\n",
       "\n",
       "\n",
       "\\item \\texttt{alpha=1}: can be used to scale the result.\n",
       "\n",
       "\n",
       "\\item \\texttt{handle}: handle to a previously created cuDNN context. Defaults to a Knet allocated handle.\n",
       "\n",
       "\\end{itemize}\n"
      ],
      "text/markdown": [
       "```\n",
       "conv4(w, x; kwargs...)\n",
       "```\n",
       "\n",
       "Execute convolutions or cross-correlations using filters specified with `w` over tensor `x`.\n",
       "\n",
       "Currently KnetArray{Float32/64,4/5} and Array{Float32/64,4} are supported as `w` and `x`.  If `w` has dimensions `(W1,W2,...,I,O)` and `x` has dimensions `(X1,X2,...,I,N)`, the result `y` will have dimensions `(Y1,Y2,...,O,N)` where\n",
       "\n",
       "```\n",
       "Yi=1+floor((Xi+2*padding[i]-Wi)/stride[i])\n",
       "```\n",
       "\n",
       "Here `I` is the number of input channels, `O` is the number of output channels, `N` is the number of instances, and `Wi,Xi,Yi` are spatial dimensions.  `padding` and `stride` are keyword arguments that can be specified as a single number (in which case they apply to all dimensions), or an array/tuple with entries for each spatial dimension.\n",
       "\n",
       "# Keywords\n",
       "\n",
       "  * `padding=0`: the number of extra zeros implicitly concatenated at the start and at the end of each dimension.\n",
       "  * `stride=1`: the number of elements to slide to reach the next filtering window.\n",
       "  * `dilation=1`: dilation factor for each dimension.\n",
       "  * `mode=0`: 0 for convolution and 1 for cross-correlation.\n",
       "  * `alpha=1`: can be used to scale the result.\n",
       "  * `handle`: handle to a previously created cuDNN context. Defaults to a Knet allocated handle.\n"
      ],
      "text/plain": [
       "\u001b[36m  conv4(w, x; kwargs...)\u001b[39m\n",
       "\n",
       "  Execute convolutions or cross-correlations using filters specified with \u001b[36mw\u001b[39m\n",
       "  over tensor \u001b[36mx\u001b[39m.\n",
       "\n",
       "  Currently KnetArray{Float32/64,4/5} and Array{Float32/64,4} are supported as\n",
       "  \u001b[36mw\u001b[39m and \u001b[36mx\u001b[39m. If \u001b[36mw\u001b[39m has dimensions \u001b[36m(W1,W2,...,I,O)\u001b[39m and \u001b[36mx\u001b[39m has dimensions\n",
       "  \u001b[36m(X1,X2,...,I,N)\u001b[39m, the result \u001b[36my\u001b[39m will have dimensions \u001b[36m(Y1,Y2,...,O,N)\u001b[39m where\n",
       "\n",
       "\u001b[36m  Yi=1+floor((Xi+2*padding[i]-Wi)/stride[i])\u001b[39m\n",
       "\n",
       "  Here \u001b[36mI\u001b[39m is the number of input channels, \u001b[36mO\u001b[39m is the number of output channels,\n",
       "  \u001b[36mN\u001b[39m is the number of instances, and \u001b[36mWi,Xi,Yi\u001b[39m are spatial dimensions. \u001b[36mpadding\u001b[39m\n",
       "  and \u001b[36mstride\u001b[39m are keyword arguments that can be specified as a single number\n",
       "  (in which case they apply to all dimensions), or an array/tuple with entries\n",
       "  for each spatial dimension.\n",
       "\n",
       "\u001b[1m  Keywords\u001b[22m\n",
       "\u001b[1m  ≡≡≡≡≡≡≡≡≡≡\u001b[22m\n",
       "\n",
       "    •    \u001b[36mpadding=0\u001b[39m: the number of extra zeros implicitly concatenated at\n",
       "        the start and at the end of each dimension.\n",
       "\n",
       "    •    \u001b[36mstride=1\u001b[39m: the number of elements to slide to reach the next\n",
       "        filtering window.\n",
       "\n",
       "    •    \u001b[36mdilation=1\u001b[39m: dilation factor for each dimension.\n",
       "\n",
       "    •    \u001b[36mmode=0\u001b[39m: 0 for convolution and 1 for cross-correlation.\n",
       "\n",
       "    •    \u001b[36malpha=1\u001b[39m: can be used to scale the result.\n",
       "\n",
       "    •    \u001b[36mhandle\u001b[39m: handle to a previously created cuDNN context. Defaults to\n",
       "        a Knet allocated handle."
      ]
     },
     "execution_count": 223,
     "metadata": {},
     "output_type": "execute_result"
    }
   ],
   "source": [
    "@doc conv4"
   ]
  },
  {
   "cell_type": "code",
   "execution_count": 258,
   "metadata": {
    "collapsed": true
   },
   "outputs": [
    {
     "data": {
      "text/plain": [
       "3840×1×1×1 KnetArray{Float64,4}:\n",
       "[:, :, 1, 1] =\n",
       "  0.03361509787334013 \n",
       " -0.1445966248805982  \n",
       "  0.09551723425175648 \n",
       " -0.06614023148448502 \n",
       " -0.03198389239714411 \n",
       "  0.003817265135760889\n",
       "  0.01215813232125082 \n",
       "  0.1289966705604129  \n",
       "  0.09349869907719485 \n",
       " -0.16249734978917435 \n",
       " -0.044088484520822174\n",
       " -0.1245009887448101  \n",
       "  0.06594251444029123 \n",
       "  ⋮                   \n",
       "  0.0                 \n",
       "  0.0                 \n",
       "  0.0                 \n",
       "  0.0                 \n",
       "  0.0                 \n",
       "  0.0                 \n",
       "  0.0                 \n",
       "  0.0                 \n",
       "  0.0                 \n",
       "  0.0                 \n",
       "  0.0                 \n",
       "  0.0                 "
      ]
     },
     "execution_count": 258,
     "metadata": {},
     "output_type": "execute_result"
    }
   ],
   "source": [
    "filter = KnetArray(Knet.xavier(3))\n",
    "filter = reshape(filter, (3,1,1,1))\n",
    "input = KnetArray(vec(caption_embeds[1][1]))\n",
    "input = reshape(input, (length(input), 1, 1, 1))"
   ]
  },
  {
   "cell_type": "code",
   "execution_count": 259,
   "metadata": {
    "collapsed": true
   },
   "outputs": [
    {
     "name": "stdout",
     "output_type": "stream",
     "text": [
      "y = conv4(filter, input, dilation=2) = K64(3836,1,1,1)[-0.0013128866591483887⋯]\n"
     ]
    },
    {
     "data": {
      "text/plain": [
       "3836×1×1×1 KnetArray{Float64,4}:\n",
       "[:, :, 1, 1] =\n",
       " -0.0013128866591483887\n",
       "  0.06546028331279256  \n",
       " -0.06078689139514584  \n",
       "  0.07809300185397507  \n",
       "  0.05011377705393124  \n",
       " -0.013634450398669925 \n",
       "  0.006853039640640006 \n",
       " -0.1590872894994064   \n",
       " -0.046960879430028    \n",
       "  0.020432394396476414 \n",
       "  0.06642493002874204  \n",
       "  0.009467297098555443 \n",
       " -0.028657186067584245 \n",
       "  ⋮                    \n",
       "  0.0                  \n",
       "  0.0                  \n",
       "  0.0                  \n",
       "  0.0                  \n",
       "  0.0                  \n",
       "  0.0                  \n",
       "  0.0                  \n",
       "  0.0                  \n",
       "  0.0                  \n",
       "  0.0                  \n",
       "  0.0                  \n",
       "  0.0                  "
      ]
     },
     "execution_count": 259,
     "metadata": {},
     "output_type": "execute_result"
    }
   ],
   "source": [
    "@show y = conv4(filter, input, dilation=2)"
   ]
  },
  {
   "cell_type": "code",
   "execution_count": 260,
   "metadata": {
    "collapsed": true
   },
   "outputs": [
    {
     "data": {
      "text/plain": [
       "3832×1×1×1 KnetArray{Float64,4}:\n",
       "[:, :, 1, 1] =\n",
       " -0.0018120180105365598\n",
       " -0.019242203604278172 \n",
       "  0.051707561348136075 \n",
       " -0.09689274294323333  \n",
       " -0.04107333071463137  \n",
       " -0.03214648215609802  \n",
       "  0.0023889227436859934\n",
       "  0.10064955758175703  \n",
       "  0.03777834857256113  \n",
       " -0.006358481677636829 \n",
       " -0.0648036199637567   \n",
       " -0.0062734059280039655\n",
       "  0.00980464358551326  \n",
       "  ⋮                    \n",
       "  0.0                  \n",
       "  0.0                  \n",
       "  0.0                  \n",
       "  0.0                  \n",
       "  0.0                  \n",
       "  0.0                  \n",
       "  0.0                  \n",
       "  0.0                  \n",
       "  0.0                  \n",
       "  0.0                  \n",
       "  0.0                  \n",
       "  0.0                  "
      ]
     },
     "execution_count": 260,
     "metadata": {},
     "output_type": "execute_result"
    }
   ],
   "source": [
    "yy = conv4(filter, y, dilation=2)"
   ]
  },
  {
   "cell_type": "code",
   "execution_count": 261,
   "metadata": {},
   "outputs": [
    {
     "data": {
      "text/plain": [
       "3828×1×1×1 KnetArray{Float64,4}:\n",
       "[:, :, 1, 1] =\n",
       "  0.0037004402837051238\n",
       " -0.02667053574762711  \n",
       " -0.041061786326762384 \n",
       "  0.07689273704130226  \n",
       "  0.035773124956968584 \n",
       "  0.045859540596445    \n",
       " -0.009903287189667225 \n",
       " -0.061857097528221244 \n",
       " -0.037673836719154655 \n",
       "  0.002108775241411728 \n",
       "  0.06100986727925491  \n",
       "  0.00739996978613829  \n",
       "  0.018019626407904773 \n",
       "  ⋮                    \n",
       "  0.0                  \n",
       "  0.0                  \n",
       "  0.0                  \n",
       "  0.0                  \n",
       "  0.0                  \n",
       "  0.0                  \n",
       "  0.0                  \n",
       "  0.0                  \n",
       "  0.0                  \n",
       "  0.0                  \n",
       "  0.0                  \n",
       "  0.0                  "
      ]
     },
     "execution_count": 261,
     "metadata": {},
     "output_type": "execute_result"
    }
   ],
   "source": [
    "yyy = conv4(filter, yy, dilation=2)"
   ]
  },
  {
   "cell_type": "code",
   "execution_count": 299,
   "metadata": {
    "scrolled": true
   },
   "outputs": [
    {
     "data": {
      "text/plain": [
       "3828-element KnetArray{Float64,1}:\n",
       "  0.0037004402837051238\n",
       " -0.02667053574762711  \n",
       " -0.041061786326762384 \n",
       "  0.07689273704130226  \n",
       "  0.035773124956968584 \n",
       "  0.045859540596445    \n",
       " -0.009903287189667225 \n",
       " -0.061857097528221244 \n",
       " -0.037673836719154655 \n",
       "  0.002108775241411728 \n",
       "  0.06100986727925491  \n",
       "  0.00739996978613829  \n",
       "  0.018019626407904773 \n",
       "  ⋮                    \n",
       "  0.0                  \n",
       "  0.0                  \n",
       "  0.0                  \n",
       "  0.0                  \n",
       "  0.0                  \n",
       "  0.0                  \n",
       "  0.0                  \n",
       "  0.0                  \n",
       "  0.0                  \n",
       "  0.0                  \n",
       "  0.0                  \n",
       "  0.0                  "
      ]
     },
     "execution_count": 299,
     "metadata": {},
     "output_type": "execute_result"
    }
   ],
   "source": [
    "captions_hat = vec(yyy)"
   ]
  },
  {
   "cell_type": "code",
   "execution_count": 283,
   "metadata": {},
   "outputs": [
    {
     "data": {
      "text/plain": [
       "build_angles (generic function with 1 method)"
      ]
     },
     "execution_count": 283,
     "metadata": {},
     "output_type": "execute_result"
    }
   ],
   "source": [
    "function build_angles(tuple)\n",
    "    sin_value = tuple[3]/sqrt(tuple[1]^2+tuple[3]^2)\n",
    "    cos_value = tuple[1]/sqrt(tuple[1]^2+tuple[3]^2)\n",
    "    return KnetArray([sin_value, cos_value])\n",
    "end"
   ]
  },
  {
   "cell_type": "code",
   "execution_count": 289,
   "metadata": {},
   "outputs": [
    {
     "data": {
      "text/plain": [
       "2-element KnetArray{Float32,1}:\n",
       "  0.8953934 \n",
       " -0.44527593"
      ]
     },
     "execution_count": 289,
     "metadata": {},
     "output_type": "execute_result"
    }
   ],
   "source": [
    "tuple = build_angles(acameras[1,1,:])"
   ]
  },
  {
   "cell_type": "code",
   "execution_count": 286,
   "metadata": {},
   "outputs": [],
   "source": [
    "struct Chain\n",
    "    layers\n",
    "    Chain(layers...) = new(layers)\n",
    "end\n",
    "(c::Chain)(x) = (for l in c.layers; x = l(x); end; x)"
   ]
  },
  {
   "cell_type": "code",
   "execution_count": 287,
   "metadata": {},
   "outputs": [],
   "source": [
    "struct Layer0; w; b; end\n",
    "Layer0(i::Int,o::Int) = Layer0(param(o,i),param0(o))\n",
    "(l::Layer0)(x) = (l.w * x .+ l.b)"
   ]
  },
  {
   "cell_type": "code",
   "execution_count": 292,
   "metadata": {},
   "outputs": [
    {
     "data": {
      "text/plain": [
       "Chain((Layer0(P(KnetArray{Float32,2}(32,2)), P(KnetArray{Float32,1}(32))),))"
      ]
     },
     "execution_count": 292,
     "metadata": {},
     "output_type": "execute_result"
    }
   ],
   "source": [
    "mlp1=Chain(Layer0(2,32)) # MLP1 dimensionality 32"
   ]
  },
  {
   "cell_type": "code",
   "execution_count": 293,
   "metadata": {},
   "outputs": [
    {
     "data": {
      "text/plain": [
       "Chain((Layer0(P(KnetArray{Float32,2}(2500,3860)), P(KnetArray{Float32,1}(2500))), Layer0(P(KnetArray{Float32,2}(1000,2500)), P(KnetArray{Float32,1}(1000))), Layer0(P(KnetArray{Float32,2}(256,1000)), P(KnetArray{Float32,1}(256)))))"
      ]
     },
     "execution_count": 293,
     "metadata": {},
     "output_type": "execute_result"
    }
   ],
   "source": [
    "mlp2=Chain(Layer0(3860,2500), Layer0(2500,1000), Layer0(1000,256)) # MLP2 dimensionality 256"
   ]
  },
  {
   "cell_type": "code",
   "execution_count": 295,
   "metadata": {
    "scrolled": false
   },
   "outputs": [
    {
     "data": {
      "text/plain": [
       "32-element KnetArray{Float32,1}:\n",
       "  0.24294043 \n",
       " -0.21395203 \n",
       "  0.044674255\n",
       " -0.3009952  \n",
       "  0.02855713 \n",
       " -0.24835156 \n",
       "  0.065606184\n",
       "  0.109428644\n",
       " -0.11246404 \n",
       "  0.0844585  \n",
       "  0.06966905 \n",
       " -0.025629437\n",
       " -0.13189846 \n",
       "  ⋮          \n",
       "  0.04445757 \n",
       "  0.23382267 \n",
       " -0.1637316  \n",
       " -0.27894253 \n",
       "  0.2100029  \n",
       "  0.18465818 \n",
       " -0.19198799 \n",
       "  0.14908513 \n",
       " -0.22744024 \n",
       "  0.11463731 \n",
       "  0.17712262 \n",
       "  0.07698359 "
      ]
     },
     "execution_count": 295,
     "metadata": {},
     "output_type": "execute_result"
    }
   ],
   "source": [
    "cameras_hat = mlp1(tuple)"
   ]
  },
  {
   "cell_type": "code",
   "execution_count": 305,
   "metadata": {},
   "outputs": [
    {
     "data": {
      "text/plain": [
       "3828-element KnetArray{Float32,1}:\n",
       "  0.0037004403\n",
       " -0.026670536 \n",
       " -0.041061785 \n",
       "  0.07689273  \n",
       "  0.035773125 \n",
       "  0.04585954  \n",
       " -0.0099032875\n",
       " -0.061857097 \n",
       " -0.03767384  \n",
       "  0.0021087753\n",
       "  0.06100987  \n",
       "  0.0073999697\n",
       "  0.018019626 \n",
       "  ⋮           \n",
       "  0.0         \n",
       "  0.0         \n",
       "  0.0         \n",
       "  0.0         \n",
       "  0.0         \n",
       "  0.0         \n",
       "  0.0         \n",
       "  0.0         \n",
       "  0.0         \n",
       "  0.0         \n",
       "  0.0         \n",
       "  0.0         "
      ]
     },
     "execution_count": 305,
     "metadata": {},
     "output_type": "execute_result"
    }
   ],
   "source": [
    "captions_hat = convert(KnetArray{Float32},captions_hat)"
   ]
  },
  {
   "cell_type": "code",
   "execution_count": 308,
   "metadata": {},
   "outputs": [
    {
     "data": {
      "text/plain": [
       "256-element KnetArray{Float32,1}:\n",
       "  0.0009552671\n",
       "  0.00499776  \n",
       " -0.009077348 \n",
       "  0.0035285754\n",
       " -0.0039222194\n",
       "  0.013600332 \n",
       "  0.009764381 \n",
       "  0.0028035284\n",
       " -0.00468146  \n",
       " -0.01868543  \n",
       "  0.008617871 \n",
       "  0.0011645677\n",
       " -0.0042066462\n",
       "  ⋮           \n",
       "  0.012515955 \n",
       " -0.005956823 \n",
       " -0.020680724 \n",
       " -0.009527057 \n",
       " -0.005908364 \n",
       " -0.0012455045\n",
       " -0.009382162 \n",
       "  0.0040890644\n",
       " -0.017256409 \n",
       " -0.0013365897\n",
       "  0.017339882 \n",
       "  0.016975498 "
      ]
     },
     "execution_count": 308,
     "metadata": {},
     "output_type": "execute_result"
    }
   ],
   "source": [
    "mlp2(vcat(captions_hat, cameras_hat))"
   ]
  }
 ],
 "metadata": {
  "@webio": {
   "lastCommId": null,
   "lastKernelId": null
  },
  "kernelspec": {
   "display_name": "Julia 1.2.0",
   "language": "julia",
   "name": "julia-1.2"
  },
  "language_info": {
   "file_extension": ".jl",
   "mimetype": "application/julia",
   "name": "julia",
   "version": "1.2.0"
  }
 },
 "nbformat": 4,
 "nbformat_minor": 2
}
