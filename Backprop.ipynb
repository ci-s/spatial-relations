{
 "cells": [
  {
   "cell_type": "code",
   "execution_count": null,
   "metadata": {},
   "outputs": [],
   "source": [
    "include(\"slim_reader.jl\")\n",
    "include(\"Encoder.jl\")\n",
    "using Knet\n",
    "BATCH_SIZE = 50\n",
    "slim_data_dir = \"/home/ec2-user/efs/slim-dataset\"\n",
    "syn_train_files = Slim_Reader.get_train_filenames(slim_data_dir, true, false)\n",
    "# Construct training dataset object for synthetic data\n",
    "syn_train_data = Slim_Reader.make_dataset_object(syn_train_files, BATCH_SIZE)\n",
    "syn_train_batch = Slim_Reader.get_next_batch(syn_train_data, KnetArray{Float32}, false, true);\n",
    "aimages, acaptions, acameras = getdata(syn_train_batch)\n",
    "vocabid = Dict()\n",
    "vocabid = Dict(\"\" => 1) # both padding and whitespace KnetArray(zeros(EMBEDDING_SIZE))\n",
    "vocab = reshape(KnetArray{Float32}(zeros(EMBEDDING_SIZE)),(EMBEDDING_SIZE,1))"
   ]
  }
 ],
 "metadata": {
  "kernelspec": {
   "display_name": "Julia 1.2.0",
   "language": "julia",
   "name": "julia-1.2"
  },
  "language_info": {
   "file_extension": ".jl",
   "mimetype": "application/julia",
   "name": "julia",
   "version": "1.2.0"
  }
 },
 "nbformat": 4,
 "nbformat_minor": 2
}
